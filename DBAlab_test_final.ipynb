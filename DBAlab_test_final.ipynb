{
  "nbformat": 4,
  "nbformat_minor": 0,
  "metadata": {
    "colab": {
      "name": "DBAlab_test_final",
      "provenance": [],
      "collapsed_sections": [],
      "mount_file_id": "1lV0wyEforJK3LLrlmCKXk3xhw13TskHx",
      "authorship_tag": "ABX9TyOLTn6M3fiOyTtkdvDVG4yW",
      "include_colab_link": true
    },
    "kernelspec": {
      "name": "python3",
      "display_name": "Python 3"
    }
  },
  "cells": [
    {
      "cell_type": "markdown",
      "metadata": {
        "id": "view-in-github",
        "colab_type": "text"
      },
      "source": [
        "<a href=\"https://colab.research.google.com/github/wildanahkmwn/DBAlab_test/blob/main/DBAlab_test_final.ipynb\" target=\"_parent\"><img src=\"https://colab.research.google.com/assets/colab-badge.svg\" alt=\"Open In Colab\"/></a>"
      ]
    },
    {
      "cell_type": "code",
      "metadata": {
        "id": "gS8hl0_Npv8F"
      },
      "source": [
        "import numpy as np\n",
        "import pandas as pd\n",
        "import os\n",
        "import seaborn as sns\n",
        "import matplotlib.pyplot as plt\n",
        "from sklearn.model_selection import train_test_split\n",
        "import random\n",
        "from tensorflow.keras.optimizers import SGD\n",
        "from torch.autograd import Variable\n",
        "import torch"
      ],
      "execution_count": 1,
      "outputs": []
    },
    {
      "cell_type": "code",
      "metadata": {
        "id": "lZVTJIHvp1iY",
        "outputId": "59058384-30ec-4f6e-a91e-e890a4ffa55e",
        "colab": {
          "base_uri": "https://localhost:8080/"
        }
      },
      "source": [
        "from google.colab import drive\n",
        "drive.mount('/content/drive')"
      ],
      "execution_count": 2,
      "outputs": [
        {
          "output_type": "stream",
          "text": [
            "Mounted at /content/drive\n"
          ],
          "name": "stdout"
        }
      ]
    },
    {
      "cell_type": "code",
      "metadata": {
        "id": "f7Nah_Ifp1fk"
      },
      "source": [
        "#import all dataset\n",
        "\n",
        "df1 = pd.read_csv(\"/content/drive/My Drive/DBALab-Test/Preprocessed/mHealth_subject1.csv\", header=None)\n",
        "df2 = pd.read_csv(\"/content/drive/My Drive/DBALab-Test/Preprocessed/mHealth_subject2.csv\", header=None)\n",
        "df3 = pd.read_csv(\"/content/drive/My Drive/DBALab-Test/Preprocessed/mHealth_subject3.csv\", header=None)\n",
        "df4 = pd.read_csv(\"/content/drive/My Drive/DBALab-Test/Preprocessed/mHealth_subject4.csv\", header=None)\n",
        "df5 = pd.read_csv(\"/content/drive/My Drive/DBALab-Test/Preprocessed/mHealth_subject5.csv\", header=None)\n",
        "df6 = pd.read_csv(\"/content/drive/My Drive/DBALab-Test/Preprocessed/mHealth_subject6.csv\", header=None)\n",
        "df7 = pd.read_csv(\"/content/drive/My Drive/DBALab-Test/Preprocessed/mHealth_subject7.csv\", header=None)\n",
        "df8 = pd.read_csv(\"/content/drive/My Drive/DBALab-Test/Preprocessed/mHealth_subject8.csv\", header=None)\n",
        "df9 = pd.read_csv(\"/content/drive/My Drive/DBALab-Test/Preprocessed/mHealth_subject9.csv\", header=None)\n",
        "df10 = pd.read_csv(\"/content/drive/My Drive/DBALab-Test/Preprocessed/mHealth_subject10.csv\", header=None)"
      ],
      "execution_count": 3,
      "outputs": []
    },
    {
      "cell_type": "code",
      "metadata": {
        "id": "dlQ2ErKRsQCj",
        "outputId": "d7e20c2d-c536-48ef-8f0c-cf5bb41e03f6",
        "colab": {
          "base_uri": "https://localhost:8080/",
          "height": 422
        }
      },
      "source": [
        "df1"
      ],
      "execution_count": 4,
      "outputs": [
        {
          "output_type": "execute_result",
          "data": {
            "text/html": [
              "<div>\n",
              "<style scoped>\n",
              "    .dataframe tbody tr th:only-of-type {\n",
              "        vertical-align: middle;\n",
              "    }\n",
              "\n",
              "    .dataframe tbody tr th {\n",
              "        vertical-align: top;\n",
              "    }\n",
              "\n",
              "    .dataframe thead th {\n",
              "        text-align: right;\n",
              "    }\n",
              "</style>\n",
              "<table border=\"1\" class=\"dataframe\">\n",
              "  <thead>\n",
              "    <tr style=\"text-align: right;\">\n",
              "      <th></th>\n",
              "      <th>0</th>\n",
              "      <th>1</th>\n",
              "      <th>2</th>\n",
              "      <th>3</th>\n",
              "      <th>4</th>\n",
              "      <th>5</th>\n",
              "      <th>6</th>\n",
              "      <th>7</th>\n",
              "      <th>8</th>\n",
              "      <th>9</th>\n",
              "      <th>10</th>\n",
              "      <th>11</th>\n",
              "      <th>12</th>\n",
              "      <th>13</th>\n",
              "      <th>14</th>\n",
              "      <th>15</th>\n",
              "      <th>16</th>\n",
              "      <th>17</th>\n",
              "      <th>18</th>\n",
              "      <th>19</th>\n",
              "      <th>20</th>\n",
              "      <th>21</th>\n",
              "    </tr>\n",
              "  </thead>\n",
              "  <tbody>\n",
              "    <tr>\n",
              "      <th>0</th>\n",
              "      <td>-9.8184</td>\n",
              "      <td>0.009971</td>\n",
              "      <td>0.29563</td>\n",
              "      <td>0.004186</td>\n",
              "      <td>0.004186</td>\n",
              "      <td>0.63077</td>\n",
              "      <td>0.103900</td>\n",
              "      <td>-0.84053</td>\n",
              "      <td>-0.68762</td>\n",
              "      <td>-0.370000</td>\n",
              "      <td>-0.36327</td>\n",
              "      <td>0.299630</td>\n",
              "      <td>-8.6499</td>\n",
              "      <td>-4.57810</td>\n",
              "      <td>0.187760</td>\n",
              "      <td>-0.44902</td>\n",
              "      <td>-1.01030</td>\n",
              "      <td>0.034483</td>\n",
              "      <td>-2.35000</td>\n",
              "      <td>-1.610200</td>\n",
              "      <td>-0.030899</td>\n",
              "      <td>0</td>\n",
              "    </tr>\n",
              "    <tr>\n",
              "      <th>1</th>\n",
              "      <td>-9.8489</td>\n",
              "      <td>0.524040</td>\n",
              "      <td>0.37348</td>\n",
              "      <td>0.004186</td>\n",
              "      <td>0.016745</td>\n",
              "      <td>0.68389</td>\n",
              "      <td>0.085343</td>\n",
              "      <td>-0.83865</td>\n",
              "      <td>-0.68369</td>\n",
              "      <td>-0.197990</td>\n",
              "      <td>-0.18151</td>\n",
              "      <td>0.582980</td>\n",
              "      <td>-8.6275</td>\n",
              "      <td>-4.31980</td>\n",
              "      <td>0.023595</td>\n",
              "      <td>-0.44902</td>\n",
              "      <td>-1.01030</td>\n",
              "      <td>0.034483</td>\n",
              "      <td>-2.16320</td>\n",
              "      <td>-0.882540</td>\n",
              "      <td>0.326570</td>\n",
              "      <td>0</td>\n",
              "    </tr>\n",
              "    <tr>\n",
              "      <th>2</th>\n",
              "      <td>-9.6602</td>\n",
              "      <td>0.181850</td>\n",
              "      <td>0.43742</td>\n",
              "      <td>0.016745</td>\n",
              "      <td>0.037677</td>\n",
              "      <td>0.68113</td>\n",
              "      <td>0.085343</td>\n",
              "      <td>-0.83865</td>\n",
              "      <td>-0.68369</td>\n",
              "      <td>-0.374170</td>\n",
              "      <td>0.18723</td>\n",
              "      <td>0.438510</td>\n",
              "      <td>-8.5055</td>\n",
              "      <td>-4.27720</td>\n",
              "      <td>0.275720</td>\n",
              "      <td>-0.44902</td>\n",
              "      <td>-1.01030</td>\n",
              "      <td>0.034483</td>\n",
              "      <td>-1.61750</td>\n",
              "      <td>-0.165620</td>\n",
              "      <td>-0.030693</td>\n",
              "      <td>0</td>\n",
              "    </tr>\n",
              "    <tr>\n",
              "      <th>3</th>\n",
              "      <td>-9.6507</td>\n",
              "      <td>0.214220</td>\n",
              "      <td>0.24033</td>\n",
              "      <td>0.079540</td>\n",
              "      <td>0.117220</td>\n",
              "      <td>0.55031</td>\n",
              "      <td>0.085343</td>\n",
              "      <td>-0.83865</td>\n",
              "      <td>-0.68369</td>\n",
              "      <td>-0.017271</td>\n",
              "      <td>0.18366</td>\n",
              "      <td>0.575710</td>\n",
              "      <td>-8.6279</td>\n",
              "      <td>-4.31630</td>\n",
              "      <td>0.367520</td>\n",
              "      <td>-0.45686</td>\n",
              "      <td>-1.00820</td>\n",
              "      <td>0.025862</td>\n",
              "      <td>-1.07710</td>\n",
              "      <td>0.006945</td>\n",
              "      <td>-0.382620</td>\n",
              "      <td>0</td>\n",
              "    </tr>\n",
              "    <tr>\n",
              "      <th>4</th>\n",
              "      <td>-9.7030</td>\n",
              "      <td>0.303890</td>\n",
              "      <td>0.31156</td>\n",
              "      <td>0.221870</td>\n",
              "      <td>0.205130</td>\n",
              "      <td>0.71098</td>\n",
              "      <td>0.085343</td>\n",
              "      <td>-0.83865</td>\n",
              "      <td>-0.68369</td>\n",
              "      <td>-0.374390</td>\n",
              "      <td>-0.54671</td>\n",
              "      <td>0.445860</td>\n",
              "      <td>-8.7008</td>\n",
              "      <td>-4.14590</td>\n",
              "      <td>0.407290</td>\n",
              "      <td>-0.45686</td>\n",
              "      <td>-1.00820</td>\n",
              "      <td>0.025862</td>\n",
              "      <td>-0.53684</td>\n",
              "      <td>0.175900</td>\n",
              "      <td>-1.095500</td>\n",
              "      <td>0</td>\n",
              "    </tr>\n",
              "    <tr>\n",
              "      <th>...</th>\n",
              "      <td>...</td>\n",
              "      <td>...</td>\n",
              "      <td>...</td>\n",
              "      <td>...</td>\n",
              "      <td>...</td>\n",
              "      <td>...</td>\n",
              "      <td>...</td>\n",
              "      <td>...</td>\n",
              "      <td>...</td>\n",
              "      <td>...</td>\n",
              "      <td>...</td>\n",
              "      <td>...</td>\n",
              "      <td>...</td>\n",
              "      <td>...</td>\n",
              "      <td>...</td>\n",
              "      <td>...</td>\n",
              "      <td>...</td>\n",
              "      <td>...</td>\n",
              "      <td>...</td>\n",
              "      <td>...</td>\n",
              "      <td>...</td>\n",
              "      <td>...</td>\n",
              "    </tr>\n",
              "    <tr>\n",
              "      <th>144533</th>\n",
              "      <td>-9.4032</td>\n",
              "      <td>0.464170</td>\n",
              "      <td>-3.29510</td>\n",
              "      <td>0.272110</td>\n",
              "      <td>-0.050235</td>\n",
              "      <td>2.28640</td>\n",
              "      <td>-0.888680</td>\n",
              "      <td>-0.95497</td>\n",
              "      <td>0.88409</td>\n",
              "      <td>-3.039200</td>\n",
              "      <td>2.96620</td>\n",
              "      <td>-0.978980</td>\n",
              "      <td>-4.0618</td>\n",
              "      <td>4.61190</td>\n",
              "      <td>7.188900</td>\n",
              "      <td>-0.65490</td>\n",
              "      <td>0.54415</td>\n",
              "      <td>0.676720</td>\n",
              "      <td>40.18000</td>\n",
              "      <td>14.369000</td>\n",
              "      <td>-29.304000</td>\n",
              "      <td>0</td>\n",
              "    </tr>\n",
              "    <tr>\n",
              "      <th>144534</th>\n",
              "      <td>-9.5201</td>\n",
              "      <td>0.751360</td>\n",
              "      <td>-3.84820</td>\n",
              "      <td>-0.104660</td>\n",
              "      <td>-0.025118</td>\n",
              "      <td>2.24010</td>\n",
              "      <td>-0.903530</td>\n",
              "      <td>-0.96998</td>\n",
              "      <td>0.86640</td>\n",
              "      <td>-3.765300</td>\n",
              "      <td>5.35880</td>\n",
              "      <td>-0.844080</td>\n",
              "      <td>-4.4840</td>\n",
              "      <td>5.07440</td>\n",
              "      <td>6.441200</td>\n",
              "      <td>-0.65490</td>\n",
              "      <td>0.54415</td>\n",
              "      <td>0.676720</td>\n",
              "      <td>26.90100</td>\n",
              "      <td>-2.929500</td>\n",
              "      <td>-30.119000</td>\n",
              "      <td>0</td>\n",
              "    </tr>\n",
              "    <tr>\n",
              "      <th>144535</th>\n",
              "      <td>-9.3682</td>\n",
              "      <td>1.239600</td>\n",
              "      <td>-3.02530</td>\n",
              "      <td>-0.138150</td>\n",
              "      <td>-0.079540</td>\n",
              "      <td>2.39560</td>\n",
              "      <td>-0.903530</td>\n",
              "      <td>-0.96998</td>\n",
              "      <td>0.86640</td>\n",
              "      <td>-3.967500</td>\n",
              "      <td>5.72770</td>\n",
              "      <td>-0.122230</td>\n",
              "      <td>-3.1657</td>\n",
              "      <td>0.98528</td>\n",
              "      <td>7.528400</td>\n",
              "      <td>-0.65490</td>\n",
              "      <td>0.54415</td>\n",
              "      <td>0.676720</td>\n",
              "      <td>17.28800</td>\n",
              "      <td>5.330800</td>\n",
              "      <td>-30.393000</td>\n",
              "      <td>0</td>\n",
              "    </tr>\n",
              "    <tr>\n",
              "      <th>144536</th>\n",
              "      <td>-8.6702</td>\n",
              "      <td>1.185900</td>\n",
              "      <td>-3.01960</td>\n",
              "      <td>-0.066981</td>\n",
              "      <td>-0.050235</td>\n",
              "      <td>2.21890</td>\n",
              "      <td>-0.903530</td>\n",
              "      <td>-0.96998</td>\n",
              "      <td>0.86640</td>\n",
              "      <td>-4.690700</td>\n",
              "      <td>2.98270</td>\n",
              "      <td>-0.080312</td>\n",
              "      <td>-1.0351</td>\n",
              "      <td>-0.85876</td>\n",
              "      <td>6.123700</td>\n",
              "      <td>-0.65490</td>\n",
              "      <td>0.54415</td>\n",
              "      <td>0.676720</td>\n",
              "      <td>17.43000</td>\n",
              "      <td>19.502000</td>\n",
              "      <td>-28.727000</td>\n",
              "      <td>0</td>\n",
              "    </tr>\n",
              "    <tr>\n",
              "      <th>144537</th>\n",
              "      <td>-8.7211</td>\n",
              "      <td>1.205600</td>\n",
              "      <td>-2.00730</td>\n",
              "      <td>-0.012559</td>\n",
              "      <td>0.025118</td>\n",
              "      <td>2.35210</td>\n",
              "      <td>-0.909090</td>\n",
              "      <td>-0.97186</td>\n",
              "      <td>0.86051</td>\n",
              "      <td>-5.232500</td>\n",
              "      <td>3.35510</td>\n",
              "      <td>-0.073202</td>\n",
              "      <td>-2.9315</td>\n",
              "      <td>-1.33840</td>\n",
              "      <td>5.162200</td>\n",
              "      <td>-0.65490</td>\n",
              "      <td>0.54415</td>\n",
              "      <td>0.676720</td>\n",
              "      <td>16.53500</td>\n",
              "      <td>19.779000</td>\n",
              "      <td>-20.084000</td>\n",
              "      <td>0</td>\n",
              "    </tr>\n",
              "  </tbody>\n",
              "</table>\n",
              "<p>144538 rows × 22 columns</p>\n",
              "</div>"
            ],
            "text/plain": [
              "            0         1        2         3   ...        18         19         20  21\n",
              "0      -9.8184  0.009971  0.29563  0.004186  ...  -2.35000  -1.610200  -0.030899   0\n",
              "1      -9.8489  0.524040  0.37348  0.004186  ...  -2.16320  -0.882540   0.326570   0\n",
              "2      -9.6602  0.181850  0.43742  0.016745  ...  -1.61750  -0.165620  -0.030693   0\n",
              "3      -9.6507  0.214220  0.24033  0.079540  ...  -1.07710   0.006945  -0.382620   0\n",
              "4      -9.7030  0.303890  0.31156  0.221870  ...  -0.53684   0.175900  -1.095500   0\n",
              "...        ...       ...      ...       ...  ...       ...        ...        ...  ..\n",
              "144533 -9.4032  0.464170 -3.29510  0.272110  ...  40.18000  14.369000 -29.304000   0\n",
              "144534 -9.5201  0.751360 -3.84820 -0.104660  ...  26.90100  -2.929500 -30.119000   0\n",
              "144535 -9.3682  1.239600 -3.02530 -0.138150  ...  17.28800   5.330800 -30.393000   0\n",
              "144536 -8.6702  1.185900 -3.01960 -0.066981  ...  17.43000  19.502000 -28.727000   0\n",
              "144537 -8.7211  1.205600 -2.00730 -0.012559  ...  16.53500  19.779000 -20.084000   0\n",
              "\n",
              "[144538 rows x 22 columns]"
            ]
          },
          "metadata": {
            "tags": []
          },
          "execution_count": 4
        }
      ]
    },
    {
      "cell_type": "code",
      "metadata": {
        "id": "0RuJtdEFnYWi",
        "outputId": "2b808232-f5f8-4508-a1b6-33574a09f6b4",
        "colab": {
          "base_uri": "https://localhost:8080/",
          "height": 1000
        }
      },
      "source": [
        "!pip install syft"
      ],
      "execution_count": 5,
      "outputs": [
        {
          "output_type": "stream",
          "text": [
            "Collecting syft\n",
            "\u001b[?25l  Downloading https://files.pythonhosted.org/packages/1c/73/891ba1dca7e0ba77be211c36688f083184d8c9d5901b8cd59cbf867052f3/syft-0.2.9-py3-none-any.whl (433kB)\n",
            "\u001b[K     |████████████████████████████████| 440kB 2.8MB/s \n",
            "\u001b[?25hCollecting phe~=1.4.0\n",
            "  Downloading https://files.pythonhosted.org/packages/32/0e/568e97b014eb14e794a1258a341361e9da351dc6240c63b89e1541e3341c/phe-1.4.0.tar.gz\n",
            "Collecting requests~=2.22.0\n",
            "\u001b[?25l  Downloading https://files.pythonhosted.org/packages/51/bd/23c926cd341ea6b7dd0b2a00aba99ae0f828be89d72b2190f27c11d4b7fb/requests-2.22.0-py2.py3-none-any.whl (57kB)\n",
            "\u001b[K     |████████████████████████████████| 61kB 6.8MB/s \n",
            "\u001b[?25hRequirement already satisfied: numpy~=1.18.1 in /usr/local/lib/python3.6/dist-packages (from syft) (1.18.5)\n",
            "Collecting requests-toolbelt==0.9.1\n",
            "\u001b[?25l  Downloading https://files.pythonhosted.org/packages/60/ef/7681134338fc097acef8d9b2f8abe0458e4d87559c689a8c306d0957ece5/requests_toolbelt-0.9.1-py2.py3-none-any.whl (54kB)\n",
            "\u001b[K     |████████████████████████████████| 61kB 7.0MB/s \n",
            "\u001b[?25hRequirement already satisfied: msgpack~=1.0.0 in /usr/local/lib/python3.6/dist-packages (from syft) (1.0.0)\n",
            "Collecting torchvision~=0.5.0\n",
            "\u001b[?25l  Downloading https://files.pythonhosted.org/packages/7e/90/6141bf41f5655c78e24f40f710fdd4f8a8aff6c8b7c6f0328240f649bdbe/torchvision-0.5.0-cp36-cp36m-manylinux1_x86_64.whl (4.0MB)\n",
            "\u001b[K     |████████████████████████████████| 4.0MB 11.3MB/s \n",
            "\u001b[?25hCollecting aiortc==0.9.28\n",
            "\u001b[?25l  Downloading https://files.pythonhosted.org/packages/bf/54/beb8dcb9050aaf903c4426884970d0f18a76e49c69b5a06653812e404446/aiortc-0.9.28-cp36-cp36m-manylinux2010_x86_64.whl (2.0MB)\n",
            "\u001b[K     |████████████████████████████████| 2.0MB 22.9MB/s \n",
            "\u001b[?25hCollecting notebook==5.7.8\n",
            "\u001b[?25l  Downloading https://files.pythonhosted.org/packages/f6/36/89ebfffc9dd8c8dbd81c1ffb53e3d4233ee666414c143959477cb07cc5f5/notebook-5.7.8-py2.py3-none-any.whl (9.0MB)\n",
            "\u001b[K     |████████████████████████████████| 9.0MB 41.5MB/s \n",
            "\u001b[?25hCollecting tornado==4.5.3\n",
            "\u001b[?25l  Downloading https://files.pythonhosted.org/packages/e3/7b/e29ab3d51c8df66922fea216e2bddfcb6430fb29620e5165b16a216e0d3c/tornado-4.5.3.tar.gz (484kB)\n",
            "\u001b[K     |████████████████████████████████| 491kB 40.9MB/s \n",
            "\u001b[?25hRequirement already satisfied: scipy~=1.4.1 in /usr/local/lib/python3.6/dist-packages (from syft) (1.4.1)\n",
            "Collecting tblib~=1.6.0\n",
            "  Downloading https://files.pythonhosted.org/packages/0d/de/dca3e651ca62e59c08d324f4a51467fa4b8cbeaafb883b5e83720b4d4a47/tblib-1.6.0-py2.py3-none-any.whl\n",
            "Collecting Pillow>=7.1.0\n",
            "\u001b[?25l  Downloading https://files.pythonhosted.org/packages/5f/19/d4c25111d36163698396f93c363114cf1cddbacb24744f6612f25b6aa3d0/Pillow-8.0.1-cp36-cp36m-manylinux1_x86_64.whl (2.2MB)\n",
            "\u001b[K     |████████████████████████████████| 2.2MB 45.7MB/s \n",
            "\u001b[?25hCollecting shaloop==0.2.1-alpha.11\n",
            "\u001b[?25l  Downloading https://files.pythonhosted.org/packages/7b/8e/6c4493280d55199161c2eea896327c740195cf16cc74c5393c08eababc83/shaloop-0.2.1_alpha.11-py3-none-manylinux1_x86_64.whl (126kB)\n",
            "\u001b[K     |████████████████████████████████| 133kB 51.1MB/s \n",
            "\u001b[?25hCollecting RestrictedPython~=5.0\n",
            "  Downloading https://files.pythonhosted.org/packages/a0/cc/28c4d966615a46b03be4dac0f2c6e713412efbf2f85428eeb9618c4f6f0c/RestrictedPython-5.1-py2.py3-none-any.whl\n",
            "Requirement already satisfied: Flask~=1.1.1 in /usr/local/lib/python3.6/dist-packages (from syft) (1.1.2)\n",
            "Collecting importlib-resources~=1.5.0\n",
            "  Downloading https://files.pythonhosted.org/packages/7f/2d/88f166bcaadc09d9fdbf1c336ad118e01b7fe1155e15675e125be2ff1899/importlib_resources-1.5.0-py2.py3-none-any.whl\n",
            "Requirement already satisfied: dill~=0.3.1 in /usr/local/lib/python3.6/dist-packages (from syft) (0.3.2)\n",
            "Collecting syft-proto~=0.5.2\n",
            "\u001b[?25l  Downloading https://files.pythonhosted.org/packages/da/88/67edf7836ac4eab723416933cd663c4f87753d3ff31337f91701c0b75474/syft_proto-0.5.3-py3-none-any.whl (66kB)\n",
            "\u001b[K     |████████████████████████████████| 71kB 7.8MB/s \n",
            "\u001b[?25hCollecting openmined.threepio==0.2.0\n",
            "\u001b[?25l  Downloading https://files.pythonhosted.org/packages/0a/38/df6367693c7f3808f076cd8c2647c434a04adda2bbb2435dadefe7258fd4/openmined.threepio-0.2.0.tar.gz (73kB)\n",
            "\u001b[K     |████████████████████████████████| 81kB 10.1MB/s \n",
            "\u001b[?25hCollecting torch~=1.4.0\n",
            "\u001b[?25l  Downloading https://files.pythonhosted.org/packages/24/19/4804aea17cd136f1705a5e98a00618cb8f6ccc375ad8bfa437408e09d058/torch-1.4.0-cp36-cp36m-manylinux1_x86_64.whl (753.4MB)\n",
            "\u001b[K     |████████████████████████████████| 753.4MB 19kB/s \n",
            "\u001b[?25hCollecting websockets~=8.1.0\n",
            "\u001b[?25l  Downloading https://files.pythonhosted.org/packages/bb/d9/856af84843912e2853b1b6e898ac8b802989fcf9ecf8e8445a1da263bf3b/websockets-8.1-cp36-cp36m-manylinux2010_x86_64.whl (78kB)\n",
            "\u001b[K     |████████████████████████████████| 81kB 9.8MB/s \n",
            "\u001b[?25hCollecting websocket-client~=0.57.0\n",
            "\u001b[?25l  Downloading https://files.pythonhosted.org/packages/4c/5f/f61b420143ed1c8dc69f9eaec5ff1ac36109d52c80de49d66e0c36c3dfdf/websocket_client-0.57.0-py2.py3-none-any.whl (200kB)\n",
            "\u001b[K     |████████████████████████████████| 204kB 46.2MB/s \n",
            "\u001b[?25hCollecting lz4~=3.0.2\n",
            "\u001b[?25l  Downloading https://files.pythonhosted.org/packages/e7/81/011fef8766fb0ef681037ad6fee96168ee03a864464986cbaa23e5357704/lz4-3.0.2-cp36-cp36m-manylinux2010_x86_64.whl (1.8MB)\n",
            "\u001b[K     |████████████████████████████████| 1.8MB 39.7MB/s \n",
            "\u001b[?25hCollecting psutil==5.7.0\n",
            "\u001b[?25l  Downloading https://files.pythonhosted.org/packages/c4/b8/3512f0e93e0db23a71d82485ba256071ebef99b227351f0f5540f744af41/psutil-5.7.0.tar.gz (449kB)\n",
            "\u001b[K     |████████████████████████████████| 450kB 41.8MB/s \n",
            "\u001b[?25hCollecting flask-socketio~=4.2.1\n",
            "  Downloading https://files.pythonhosted.org/packages/66/44/edc4715af85671b943c18ac8345d0207972284a0cd630126ff5251faa08b/Flask_SocketIO-4.2.1-py2.py3-none-any.whl\n",
            "Requirement already satisfied: chardet<3.1.0,>=3.0.2 in /usr/local/lib/python3.6/dist-packages (from requests~=2.22.0->syft) (3.0.4)\n",
            "Collecting idna<2.9,>=2.5\n",
            "\u001b[?25l  Downloading https://files.pythonhosted.org/packages/14/2c/cd551d81dbe15200be1cf41cd03869a46fe7226e7450af7a6545bfc474c9/idna-2.8-py2.py3-none-any.whl (58kB)\n",
            "\u001b[K     |████████████████████████████████| 61kB 7.7MB/s \n",
            "\u001b[?25hRequirement already satisfied: urllib3!=1.25.0,!=1.25.1,<1.26,>=1.21.1 in /usr/local/lib/python3.6/dist-packages (from requests~=2.22.0->syft) (1.24.3)\n",
            "Requirement already satisfied: certifi>=2017.4.17 in /usr/local/lib/python3.6/dist-packages (from requests~=2.22.0->syft) (2020.6.20)\n",
            "Requirement already satisfied: six in /usr/local/lib/python3.6/dist-packages (from torchvision~=0.5.0->syft) (1.15.0)\n",
            "Collecting aioice<0.7.0,>=0.6.17\n",
            "  Downloading https://files.pythonhosted.org/packages/8b/86/e3cdf660b67da7a9a7013253db5db7cf786a52296cb40078db1206177698/aioice-0.6.18-py3-none-any.whl\n",
            "Collecting crc32c\n",
            "\u001b[?25l  Downloading https://files.pythonhosted.org/packages/2f/b4/e2e293d323f10d03929ed2b68de14cdddd523700381de6aecec561f7c2d1/crc32c-2.2-cp36-cp36m-manylinux2010_x86_64.whl (48kB)\n",
            "\u001b[K     |████████████████████████████████| 51kB 6.6MB/s \n",
            "\u001b[?25hCollecting pylibsrtp>=0.5.6\n",
            "\u001b[?25l  Downloading https://files.pythonhosted.org/packages/cb/fd/4f8e286da01db4e52aaa6426eac496af6e4dc00419d807d4f87d07363d84/pylibsrtp-0.6.7-cp36-cp36m-manylinux2010_x86_64.whl (75kB)\n",
            "\u001b[K     |████████████████████████████████| 81kB 9.4MB/s \n",
            "\u001b[?25hCollecting cryptography>=2.2\n",
            "\u001b[?25l  Downloading https://files.pythonhosted.org/packages/4c/a2/6565c5271a79e3c96d7a079053b4d8408a740d4bf365f0f5f244a807bd09/cryptography-3.2.1-cp35-abi3-manylinux2010_x86_64.whl (2.6MB)\n",
            "\u001b[K     |████████████████████████████████| 2.6MB 43.1MB/s \n",
            "\u001b[?25hCollecting pyee>=6.0.0\n",
            "  Downloading https://files.pythonhosted.org/packages/0d/0a/933b3931107e1da186963fd9bb9bceb9a613cff034cb0fb3b0c61003f357/pyee-8.1.0-py2.py3-none-any.whl\n",
            "Collecting av<9.0.0,>=8.0.0\n",
            "\u001b[?25l  Downloading https://files.pythonhosted.org/packages/9e/62/9a992be76f8e13ce0e3a24a838191b546805545116f9fc869bd11bd21b5f/av-8.0.2-cp36-cp36m-manylinux2010_x86_64.whl (36.9MB)\n",
            "\u001b[K     |████████████████████████████████| 36.9MB 130kB/s \n",
            "\u001b[?25hRequirement already satisfied: cffi>=1.0.0 in /usr/local/lib/python3.6/dist-packages (from aiortc==0.9.28->syft) (1.14.3)\n",
            "Requirement already satisfied: dataclasses; python_version < \"3.7\" in /usr/local/lib/python3.6/dist-packages (from aiortc==0.9.28->syft) (0.7)\n",
            "Requirement already satisfied: pyzmq>=17 in /usr/local/lib/python3.6/dist-packages (from notebook==5.7.8->syft) (19.0.2)\n",
            "Requirement already satisfied: ipykernel in /usr/local/lib/python3.6/dist-packages (from notebook==5.7.8->syft) (4.10.1)\n",
            "Requirement already satisfied: terminado>=0.8.1 in /usr/local/lib/python3.6/dist-packages (from notebook==5.7.8->syft) (0.9.1)\n",
            "Requirement already satisfied: jinja2 in /usr/local/lib/python3.6/dist-packages (from notebook==5.7.8->syft) (2.11.2)\n",
            "Requirement already satisfied: traitlets>=4.2.1 in /usr/local/lib/python3.6/dist-packages (from notebook==5.7.8->syft) (4.3.3)\n",
            "Requirement already satisfied: jupyter-client>=5.2.0 in /usr/local/lib/python3.6/dist-packages (from notebook==5.7.8->syft) (5.3.5)\n",
            "Requirement already satisfied: prometheus-client in /usr/local/lib/python3.6/dist-packages (from notebook==5.7.8->syft) (0.8.0)\n",
            "Requirement already satisfied: jupyter-core>=4.4.0 in /usr/local/lib/python3.6/dist-packages (from notebook==5.7.8->syft) (4.6.3)\n",
            "Requirement already satisfied: ipython-genutils in /usr/local/lib/python3.6/dist-packages (from notebook==5.7.8->syft) (0.2.0)\n",
            "Requirement already satisfied: nbformat in /usr/local/lib/python3.6/dist-packages (from notebook==5.7.8->syft) (5.0.8)\n",
            "Requirement already satisfied: Send2Trash in /usr/local/lib/python3.6/dist-packages (from notebook==5.7.8->syft) (1.5.0)\n",
            "Requirement already satisfied: nbconvert in /usr/local/lib/python3.6/dist-packages (from notebook==5.7.8->syft) (5.6.1)\n",
            "Requirement already satisfied: pycparser>=2 in /usr/local/lib/python3.6/dist-packages (from shaloop==0.2.1-alpha.11->syft) (2.20)\n",
            "Requirement already satisfied: itsdangerous>=0.24 in /usr/local/lib/python3.6/dist-packages (from Flask~=1.1.1->syft) (1.1.0)\n",
            "Requirement already satisfied: click>=5.1 in /usr/local/lib/python3.6/dist-packages (from Flask~=1.1.1->syft) (7.1.2)\n",
            "Requirement already satisfied: Werkzeug>=0.15 in /usr/local/lib/python3.6/dist-packages (from Flask~=1.1.1->syft) (1.0.1)\n",
            "Requirement already satisfied: importlib-metadata; python_version < \"3.8\" in /usr/local/lib/python3.6/dist-packages (from importlib-resources~=1.5.0->syft) (2.0.0)\n",
            "Requirement already satisfied: zipp>=0.4; python_version < \"3.8\" in /usr/local/lib/python3.6/dist-packages (from importlib-resources~=1.5.0->syft) (3.3.1)\n",
            "Requirement already satisfied: protobuf>=3.12.2 in /usr/local/lib/python3.6/dist-packages (from syft-proto~=0.5.2->syft) (3.12.4)\n",
            "Collecting python-socketio>=4.3.0\n",
            "\u001b[?25l  Downloading https://files.pythonhosted.org/packages/3d/97/00741edd49788510b834b60a1a4d0afb2c4942770c11b8e0f6e914371718/python_socketio-4.6.0-py2.py3-none-any.whl (51kB)\n",
            "\u001b[K     |████████████████████████████████| 61kB 8.7MB/s \n",
            "\u001b[?25hCollecting netifaces\n",
            "  Downloading https://files.pythonhosted.org/packages/0c/9b/c4c7eb09189548d45939a3d3a6b3d53979c67d124459b27a094c365c347f/netifaces-0.10.9-cp36-cp36m-manylinux1_x86_64.whl\n",
            "Requirement already satisfied: ipython>=4.0.0 in /usr/local/lib/python3.6/dist-packages (from ipykernel->notebook==5.7.8->syft) (5.5.0)\n",
            "Requirement already satisfied: ptyprocess; os_name != \"nt\" in /usr/local/lib/python3.6/dist-packages (from terminado>=0.8.1->notebook==5.7.8->syft) (0.6.0)\n",
            "Requirement already satisfied: MarkupSafe>=0.23 in /usr/local/lib/python3.6/dist-packages (from jinja2->notebook==5.7.8->syft) (1.1.1)\n",
            "Requirement already satisfied: decorator in /usr/local/lib/python3.6/dist-packages (from traitlets>=4.2.1->notebook==5.7.8->syft) (4.4.2)\n",
            "Requirement already satisfied: python-dateutil>=2.1 in /usr/local/lib/python3.6/dist-packages (from jupyter-client>=5.2.0->notebook==5.7.8->syft) (2.8.1)\n",
            "Requirement already satisfied: jsonschema!=2.5.0,>=2.4 in /usr/local/lib/python3.6/dist-packages (from nbformat->notebook==5.7.8->syft) (2.6.0)\n",
            "Requirement already satisfied: mistune<2,>=0.8.1 in /usr/local/lib/python3.6/dist-packages (from nbconvert->notebook==5.7.8->syft) (0.8.4)\n",
            "Requirement already satisfied: entrypoints>=0.2.2 in /usr/local/lib/python3.6/dist-packages (from nbconvert->notebook==5.7.8->syft) (0.3)\n",
            "Requirement already satisfied: bleach in /usr/local/lib/python3.6/dist-packages (from nbconvert->notebook==5.7.8->syft) (3.2.1)\n",
            "Requirement already satisfied: defusedxml in /usr/local/lib/python3.6/dist-packages (from nbconvert->notebook==5.7.8->syft) (0.6.0)\n",
            "Requirement already satisfied: testpath in /usr/local/lib/python3.6/dist-packages (from nbconvert->notebook==5.7.8->syft) (0.4.4)\n",
            "Requirement already satisfied: pandocfilters>=1.4.1 in /usr/local/lib/python3.6/dist-packages (from nbconvert->notebook==5.7.8->syft) (1.4.2)\n",
            "Requirement already satisfied: pygments in /usr/local/lib/python3.6/dist-packages (from nbconvert->notebook==5.7.8->syft) (2.6.1)\n",
            "Requirement already satisfied: setuptools in /usr/local/lib/python3.6/dist-packages (from protobuf>=3.12.2->syft-proto~=0.5.2->syft) (50.3.2)\n",
            "Collecting python-engineio>=3.13.0\n",
            "\u001b[?25l  Downloading https://files.pythonhosted.org/packages/4a/b0/602e549c6d735eb487f186b35e0b82e61c89459f57d1c24d5c7be6f56d05/python_engineio-3.13.2-py2.py3-none-any.whl (50kB)\n",
            "\u001b[K     |████████████████████████████████| 51kB 7.1MB/s \n",
            "\u001b[?25hRequirement already satisfied: prompt-toolkit<2.0.0,>=1.0.4 in /usr/local/lib/python3.6/dist-packages (from ipython>=4.0.0->ipykernel->notebook==5.7.8->syft) (1.0.18)\n",
            "Requirement already satisfied: pickleshare in /usr/local/lib/python3.6/dist-packages (from ipython>=4.0.0->ipykernel->notebook==5.7.8->syft) (0.7.5)\n",
            "Requirement already satisfied: simplegeneric>0.8 in /usr/local/lib/python3.6/dist-packages (from ipython>=4.0.0->ipykernel->notebook==5.7.8->syft) (0.8.1)\n",
            "Requirement already satisfied: pexpect; sys_platform != \"win32\" in /usr/local/lib/python3.6/dist-packages (from ipython>=4.0.0->ipykernel->notebook==5.7.8->syft) (4.8.0)\n",
            "Requirement already satisfied: packaging in /usr/local/lib/python3.6/dist-packages (from bleach->nbconvert->notebook==5.7.8->syft) (20.4)\n",
            "Requirement already satisfied: webencodings in /usr/local/lib/python3.6/dist-packages (from bleach->nbconvert->notebook==5.7.8->syft) (0.5.1)\n",
            "Requirement already satisfied: wcwidth in /usr/local/lib/python3.6/dist-packages (from prompt-toolkit<2.0.0,>=1.0.4->ipython>=4.0.0->ipykernel->notebook==5.7.8->syft) (0.2.5)\n",
            "Requirement already satisfied: pyparsing>=2.0.2 in /usr/local/lib/python3.6/dist-packages (from packaging->bleach->nbconvert->notebook==5.7.8->syft) (2.4.7)\n",
            "Building wheels for collected packages: phe, tornado, openmined.threepio, psutil\n",
            "  Building wheel for phe (setup.py) ... \u001b[?25l\u001b[?25hdone\n",
            "  Created wheel for phe: filename=phe-1.4.0-py2.py3-none-any.whl size=37364 sha256=f5ab76f38b2be47fe04d3e020b69b564c5da469b28ce9425a9619ef7e27dbdb4\n",
            "  Stored in directory: /root/.cache/pip/wheels/f8/dc/36/dcb6bf0f1b9907e7b710ace63e64d08e7022340909315fdea4\n",
            "  Building wheel for tornado (setup.py) ... \u001b[?25l\u001b[?25hdone\n",
            "  Created wheel for tornado: filename=tornado-4.5.3-cp36-cp36m-linux_x86_64.whl size=433076 sha256=5f99553b2636bfea71c2d7dba0abfae6409c64729ba255fe909d074829aed13e\n",
            "  Stored in directory: /root/.cache/pip/wheels/72/bf/f4/b68fa69596986881b397b18ff2b9af5f8181233aadcc9f76fd\n",
            "  Building wheel for openmined.threepio (setup.py) ... \u001b[?25l\u001b[?25hdone\n",
            "  Created wheel for openmined.threepio: filename=openmined.threepio-0.2.0-cp36-none-any.whl size=80095 sha256=6e456fdd6fbf6fbb1b11ccecb8d194091638dee8b1cd67221ec60f220c0484b0\n",
            "  Stored in directory: /root/.cache/pip/wheels/1b/a5/c5/7e67449f5d4d487e1d3a583ba51d27403b315b18ef2e48a13c\n",
            "  Building wheel for psutil (setup.py) ... \u001b[?25l\u001b[?25hdone\n",
            "  Created wheel for psutil: filename=psutil-5.7.0-cp36-cp36m-linux_x86_64.whl size=272671 sha256=8b09cb8d74a5427f04683ef39c21ee2b6e94c9ac2094970d8d1ff99f359e030a\n",
            "  Stored in directory: /root/.cache/pip/wheels/d7/69/b4/3200b95828d1f0ddb3cb5699083717f4fdbd9b4223d0644c57\n",
            "Successfully built phe tornado openmined.threepio psutil\n",
            "\u001b[31mERROR: google-colab 1.0.0 has requirement notebook~=5.3.0; python_version >= \"3.0\", but you'll have notebook 5.7.8 which is incompatible.\u001b[0m\n",
            "\u001b[31mERROR: google-colab 1.0.0 has requirement requests~=2.23.0, but you'll have requests 2.22.0 which is incompatible.\u001b[0m\n",
            "\u001b[31mERROR: google-colab 1.0.0 has requirement tornado~=5.1.0; python_version >= \"3.0\", but you'll have tornado 4.5.3 which is incompatible.\u001b[0m\n",
            "\u001b[31mERROR: datascience 0.10.6 has requirement folium==0.2.1, but you'll have folium 0.8.3 which is incompatible.\u001b[0m\n",
            "\u001b[31mERROR: bokeh 2.1.1 has requirement tornado>=5.1, but you'll have tornado 4.5.3 which is incompatible.\u001b[0m\n",
            "\u001b[31mERROR: albumentations 0.1.12 has requirement imgaug<0.2.7,>=0.2.5, but you'll have imgaug 0.2.9 which is incompatible.\u001b[0m\n",
            "Installing collected packages: phe, idna, requests, requests-toolbelt, torch, Pillow, torchvision, netifaces, aioice, crc32c, pylibsrtp, cryptography, pyee, av, aiortc, tornado, notebook, tblib, shaloop, RestrictedPython, importlib-resources, syft-proto, openmined.threepio, websockets, websocket-client, lz4, psutil, python-engineio, python-socketio, flask-socketio, syft\n",
            "  Found existing installation: idna 2.10\n",
            "    Uninstalling idna-2.10:\n",
            "      Successfully uninstalled idna-2.10\n",
            "  Found existing installation: requests 2.23.0\n",
            "    Uninstalling requests-2.23.0:\n",
            "      Successfully uninstalled requests-2.23.0\n",
            "  Found existing installation: torch 1.6.0+cu101\n",
            "    Uninstalling torch-1.6.0+cu101:\n",
            "      Successfully uninstalled torch-1.6.0+cu101\n",
            "  Found existing installation: Pillow 7.0.0\n",
            "    Uninstalling Pillow-7.0.0:\n",
            "      Successfully uninstalled Pillow-7.0.0\n",
            "  Found existing installation: torchvision 0.7.0+cu101\n",
            "    Uninstalling torchvision-0.7.0+cu101:\n",
            "      Successfully uninstalled torchvision-0.7.0+cu101\n",
            "  Found existing installation: tornado 5.1.1\n",
            "    Uninstalling tornado-5.1.1:\n",
            "      Successfully uninstalled tornado-5.1.1\n",
            "  Found existing installation: notebook 5.3.1\n",
            "    Uninstalling notebook-5.3.1:\n",
            "      Successfully uninstalled notebook-5.3.1\n",
            "  Found existing installation: tblib 1.7.0\n",
            "    Uninstalling tblib-1.7.0:\n",
            "      Successfully uninstalled tblib-1.7.0\n",
            "  Found existing installation: importlib-resources 3.1.0\n",
            "    Uninstalling importlib-resources-3.1.0:\n",
            "      Successfully uninstalled importlib-resources-3.1.0\n",
            "  Found existing installation: psutil 5.4.8\n",
            "    Uninstalling psutil-5.4.8:\n",
            "      Successfully uninstalled psutil-5.4.8\n",
            "Successfully installed Pillow-8.0.1 RestrictedPython-5.1 aioice-0.6.18 aiortc-0.9.28 av-8.0.2 crc32c-2.2 cryptography-3.2.1 flask-socketio-4.2.1 idna-2.8 importlib-resources-1.5.0 lz4-3.0.2 netifaces-0.10.9 notebook-5.7.8 openmined.threepio-0.2.0 phe-1.4.0 psutil-5.7.0 pyee-8.1.0 pylibsrtp-0.6.7 python-engineio-3.13.2 python-socketio-4.6.0 requests-2.22.0 requests-toolbelt-0.9.1 shaloop-0.2.1a11 syft-0.2.9 syft-proto-0.5.3 tblib-1.6.0 torch-1.4.0 torchvision-0.5.0 tornado-4.5.3 websocket-client-0.57.0 websockets-8.1\n"
          ],
          "name": "stdout"
        },
        {
          "output_type": "display_data",
          "data": {
            "application/vnd.colab-display-data+json": {
              "pip_warning": {
                "packages": [
                  "PIL",
                  "idna",
                  "psutil",
                  "requests",
                  "torch",
                  "tornado"
                ]
              }
            }
          },
          "metadata": {
            "tags": []
          }
        }
      ]
    },
    {
      "cell_type": "code",
      "metadata": {
        "id": "pibqSSKtm0pO"
      },
      "source": [
        "#creating the virtual client\n",
        "import syft as sy\n",
        "import torch as th\n",
        "hook = sy.TorchHook(th)\n",
        "from torch import nn, optim\n",
        "\n",
        "n_clients = 8\n",
        "clients = []\n",
        "for i in range(n_clients):\n",
        "    client_name = 'client{}'.format(i)\n",
        "    client = sy.VirtualWorker(hook, id = client_name)\n",
        "    clients.append(client)\n",
        "secure_worker = sy.VirtualWorker(hook, id=\"secure_worker\")"
      ],
      "execution_count": 6,
      "outputs": []
    },
    {
      "cell_type": "code",
      "metadata": {
        "id": "kt4m0tcVm2wX",
        "outputId": "41d49d16-373d-47f4-da42-fcd206f72406",
        "colab": {
          "base_uri": "https://localhost:8080/"
        }
      },
      "source": [
        "secure_worker"
      ],
      "execution_count": 7,
      "outputs": [
        {
          "output_type": "execute_result",
          "data": {
            "text/plain": [
              "<VirtualWorker id:secure_worker #objects:0>"
            ]
          },
          "metadata": {
            "tags": []
          },
          "execution_count": 7
        }
      ]
    },
    {
      "cell_type": "code",
      "metadata": {
        "id": "_UwWasULov3m"
      },
      "source": [
        "#concate all data to one dataset\n",
        "\n",
        "df1['client_name'] = 1\n",
        "df2['client_name'] = 2\n",
        "df3['client_name'] = 3\n",
        "df4['client_name'] = 4\n",
        "df5['client_name'] = 5\n",
        "df6['client_name'] = 6\n",
        "df7['client_name'] = 7\n",
        "df8['client_name'] = 8\n",
        "df9['client_name'] = 9\n",
        "df10['client_name'] = 10\n",
        "df_all = pd.concat([df1,df2,df3,df4,df5,df6,df7,df8,df9,df10])\n",
        "\n",
        "#split to data train and test\n",
        "df_train = pd.concat([df1,df2,df3,df4,df5,df6,df7,df8])\n",
        "df_test = pd.concat([df9,df10])"
      ],
      "execution_count": 8,
      "outputs": []
    },
    {
      "cell_type": "code",
      "metadata": {
        "id": "t6dzxeWOqAfs"
      },
      "source": [
        "#drop the 0 label\n",
        "df_trainx = df_train[df_train[21]!=0]\n",
        "nolabel_tx = df_train[df_train[21]==0]\n",
        "df_testx = df_test[df_test[21]!=0]\n",
        "nolabel_tsx = df_test[df_test[21]==0]"
      ],
      "execution_count": 9,
      "outputs": []
    },
    {
      "cell_type": "code",
      "metadata": {
        "id": "-JkHmtw3vxER"
      },
      "source": [
        "train_data = np.array(df_trainx, dtype = np.float32)\n",
        "test_data = np.array(df_testx, dtype = np.float32)"
      ],
      "execution_count": 10,
      "outputs": []
    },
    {
      "cell_type": "code",
      "metadata": {
        "id": "mqQ-G784v-Li"
      },
      "source": [
        "def print_dataset(name, data):\n",
        "    print('Dataset {}. Shape: {}'.format(name, data.shape))\n",
        "    print(data)"
      ],
      "execution_count": 11,
      "outputs": []
    },
    {
      "cell_type": "code",
      "metadata": {
        "id": "KElpHsOJv_8U",
        "outputId": "429f68f2-bcb4-4ce1-f19a-0c6bc7ee13aa",
        "colab": {
          "base_uri": "https://localhost:8080/"
        }
      },
      "source": [
        "print_dataset('Train', train_data)"
      ],
      "execution_count": 12,
      "outputs": [
        {
          "output_type": "stream",
          "text": [
            "Dataset Train. Shape: (147456, 23)\n",
            "[[-9.7788e+00  5.5690e-01  1.1975e+00 ... -3.5020e-01  1.0000e+00\n",
            "   1.0000e+00]\n",
            " [-9.7733e+00  2.7880e-01  7.3036e-01 ...  3.7363e-01  1.0000e+00\n",
            "   1.0000e+00]\n",
            " [-9.8609e+00  1.1561e-01  7.9988e-01 ... -3.5020e-01  1.0000e+00\n",
            "   1.0000e+00]\n",
            " ...\n",
            " [ 5.7627e+00  7.5603e-01 -3.1741e+00 ... -3.1726e+02  6.0000e+00\n",
            "   8.0000e+00]\n",
            " [ 2.5956e+00  2.0397e+00  6.4673e-01 ... -2.9581e+02  6.0000e+00\n",
            "   8.0000e+00]\n",
            " [-2.2642e+00  5.8287e-01  5.1051e+00 ... -2.2159e+02  6.0000e+00\n",
            "   8.0000e+00]]\n"
          ],
          "name": "stdout"
        }
      ]
    },
    {
      "cell_type": "code",
      "metadata": {
        "id": "6TZ_w61rwSqA"
      },
      "source": [
        "def get_input_and_output(data):\n",
        "    input = Variable(torch.tensor(data[:, :-2], dtype = torch.float32))\n",
        "    output1 = Variable(torch.tensor(data[:, -2], dtype = torch.float32))\n",
        "    return input, output1\n",
        "\n",
        "input, output1= get_input_and_output(train_data)\n",
        "test_input, test_output1 = get_input_and_output(test_data)\n",
        "\n",
        "to_percent = lambda x: '{:.2f}%'.format(x)"
      ],
      "execution_count": 13,
      "outputs": []
    },
    {
      "cell_type": "code",
      "metadata": {
        "id": "-BKg_lJY708I",
        "outputId": "c31c490c-0dea-4c45-8b48-f5fc279b5caa",
        "colab": {
          "base_uri": "https://localhost:8080/"
        }
      },
      "source": [
        "print_dataset('Train', output1)"
      ],
      "execution_count": 14,
      "outputs": [
        {
          "output_type": "stream",
          "text": [
            "Dataset Train. Shape: torch.Size([147456])\n",
            "tensor([1., 1., 1.,  ..., 6., 6., 6.])\n"
          ],
          "name": "stdout"
        }
      ]
    },
    {
      "cell_type": "code",
      "metadata": {
        "id": "mKgh3q_S5kao"
      },
      "source": [
        "#create model in this case, use LogisticRegression\n",
        "input_size = 21\n",
        "learning_rate = 0.01\n",
        "num_iterations = 20000\n",
        "\n",
        "class LogisticRegression(torch.nn.Module):\n",
        "    def __init__(self):\n",
        "        super(LogisticRegression, self).__init__()\n",
        "        self.linear = torch.nn.Linear(input_size, 1)\n",
        "\n",
        "    def forward(self, x):\n",
        "        return torch.sigmoid(self.linear(x))\n"
      ],
      "execution_count": 15,
      "outputs": []
    },
    {
      "cell_type": "code",
      "metadata": {
        "id": "wISuilgDm2zw",
        "outputId": "9623ec36-c723-4b71-e184-5a58d75f185d",
        "colab": {
          "base_uri": "https://localhost:8080/"
        }
      },
      "source": [
        "#send the data to each client\n",
        "client_features = []\n",
        "client_targets = []\n",
        "for i in range(n_clients):\n",
        "    train_data2 = df_trainx[df_trainx['client_name']==i+1]\n",
        "    train_data2 = np.array(train_data2, dtype = np.float32)\n",
        "    train_data3 = th.tensor(train_data2, dtype = torch.float32, requires_grad=True)\n",
        "    features = train_data3[:, :-2].clone().detach().requires_grad_(True)\n",
        "    targets = train_data3[:, -2][:, None].clone().detach() \n",
        "    client_features.append(features.send(clients[i]))\n",
        "    client_targets.append(targets.send(clients[i]))\n",
        "model = LogisticRegression()\n",
        "print(model)"
      ],
      "execution_count": 16,
      "outputs": [
        {
          "output_type": "stream",
          "text": [
            "LogisticRegression(\n",
            "  (linear): Linear(in_features=21, out_features=1, bias=True)\n",
            ")\n"
          ],
          "name": "stdout"
        }
      ]
    },
    {
      "cell_type": "markdown",
      "metadata": {
        "id": "mDqMUo94zNOK"
      },
      "source": [
        "Define some functions to train the machine learning model in a federated way while keeping track of the training loss and the training accuracy.\n",
        "The whole process is done in a trusted aggregator, in 100 iterations. (We can vary the number of iterations.). At each iteration, a copy of the shared model is sent to all the 8 client. Each client trains its own local model with its own local dataset, in 5 local iterations. (We can vary the number of local iterations.) Each local model improves a little bit in its own direction. Then we compute the local losses and local accuracies to keep track of them. So, we will able to create graphs of the learning curves: Training Losses versus Iterations and Training Accuracies versus Iterations. We send the local models to the trusted aggregator that will average all the model updates. This averaged model is the shared model that is sent to all the 8 client at the begining of each iteration."
      ]
    },
    {
      "cell_type": "code",
      "metadata": {
        "id": "IQIzT6agm23V"
      },
      "source": [
        "iterations = 100 #2000 #can vary the number of iteration\n",
        "worker_iterations = 5 #can vary the number of local iteration\n",
        "\n",
        "#create function for grap\n",
        "def plot_federated_graphs(losses, accuracies):\n",
        "    for i in range(n_clients):\n",
        "        plt.plot(losses[i], label=f'Client {i}')\n",
        "    legend = plt.legend(loc='upper right', shadow=True)\n",
        "    plt.title(f\"Training Loss\")\n",
        "    plt.xlabel(\"Iterations\")\n",
        "    plt.ylabel(\"Training Loss\")\n",
        "    plt.show()\n",
        "    for i in range(n_clients):\n",
        "        plt.plot(accuracies[i], label=f'Client {i}')\n",
        "    legend = plt.legend(loc='lower right', shadow=True)\n",
        "    plt.title(f\"Training Accuracy\")\n",
        "    plt.xlabel(\"Iterations\")\n",
        "    plt.ylabel(\"Training Accuracy (Percent %)\")\n",
        "    plt.show()\n",
        "\n",
        "#create function for accuracy    \n",
        "def compute_federated_accuracy(model, input, output):\n",
        "    prediction = model(input)\n",
        "    n_samples = prediction.shape[0]\n",
        "    s = 0.\n",
        "    for i in range(n_samples):\n",
        "        p = 1. if prediction[i] >= 0.5 else 0.\n",
        "        e = 1. if p == output[i] else 0.\n",
        "        s += e\n",
        "    return 100. * s / n_samples\n",
        "\n",
        "#create function for run federated learning\n",
        "def federated_learning(client_features, client_targets, test_input, test_output):\n",
        "    model = LogisticRegression()\n",
        "    criterion = torch.nn.BCELoss(size_average=True)\n",
        "    optimizer = torch.optim.SGD(model.parameters(), lr=learning_rate)  \n",
        "    losses = [[] for i in range(n_clients)]\n",
        "    accuracies = [[] for i in range(n_clients)]\n",
        "    for iteration in range(iterations):\n",
        "        models = [model.copy().send(clients[i]) for i in range(n_clients)]\n",
        "        optimizers = [torch.optim.SGD(params = models[i].parameters(), lr = learning_rate) for i in range(n_clients)]\n",
        "        for worker_iteration in range(worker_iterations):\n",
        "            last_losses = []\n",
        "            for i in range(n_clients):\n",
        "                optimizers[i].zero_grad()\n",
        "                prediction = models[i](client_features[i])\n",
        "                loss = criterion(prediction, client_targets[i])\n",
        "                loss.backward()\n",
        "                optimizers[i].step()\n",
        "                loss = loss.get().data.item()\n",
        "                last_losses.append(loss)\n",
        "        for i in range(n_clients):\n",
        "            losses[i].append(last_losses[i])\n",
        "            train_acc = compute_federated_accuracy(models[i], client_features[i], client_targets[i])\n",
        "            accuracies[i].append(train_acc)\n",
        "            models[i].move(secure_worker)\n",
        "        with th.no_grad():\n",
        "            avg_weight = sum([models[i].linear.weight.data for i in range(n_clients)]) / n_clients\n",
        "            model.linear.weight.set_(avg_weight.get())\n",
        "            avg_bias = sum([models[i].linear.bias.data for i in range(n_clients)]) / n_clients\n",
        "            model.linear.bias.set_(avg_bias.get())\n",
        "        if iteration % 100 == 0:\n",
        "            losses_str = ['{:.4f}'.format(losses[i][-1]) for i in range(n_clients)]\n",
        "            accuracies_str = [to_percent(accuracies[i][-1]) for i in range(n_clients)]\n",
        "            print('Iteration={}, losses={}, accuracies={}'.format(iteration, losses_str, accuracies_str))\n",
        "    plot_federated_graphs(losses, accuracies)\n",
        "    test_acc = compute_accuracy(model, test_input, test_output)\n",
        "    print('\\nTesting Accuracy = {}'.format(to_percent(test_acc)))\n",
        "    return model"
      ],
      "execution_count": 17,
      "outputs": []
    },
    {
      "cell_type": "code",
      "metadata": {
        "id": "u7u179aem26R",
        "outputId": "e1b44af9-55b8-4e2e-c3f2-a1a7b0ab1c08",
        "colab": {
          "base_uri": "https://localhost:8080/"
        }
      },
      "source": [
        "model = federated_learning(client_features, client_targets, test_input, test_output1)"
      ],
      "execution_count": null,
      "outputs": [
        {
          "output_type": "stream",
          "text": [
            "/usr/local/lib/python3.6/dist-packages/torch/nn/_reduction.py:44: UserWarning: size_average and reduce args will be deprecated, please use reduction='mean' instead.\n",
            "  return ret\n",
            "/usr/local/lib/python3.6/dist-packages/syft/frameworks/torch/tensors/interpreters/native.py:156: UserWarning: The .grad attribute of a Tensor that is not a leaf Tensor is being accessed. Its .grad attribute won't be populated during autograd.backward(). If you indeed want the gradient for a non-leaf Tensor, use .retain_grad() on the non-leaf Tensor. If you access the non-leaf Tensor by mistake, make sure you access the leaf Tensor instead. See github.com/pytorch/pytorch/pull/30531 for more informations.\n",
            "  to_return = self.native_grad\n"
          ],
          "name": "stderr"
        },
        {
          "output_type": "stream",
          "text": [
            "Iteration=0, losses=['-36.4964', '-106.3997', '-80.3530', '-63.5449', '-81.7682', '-103.0116', '-84.2979', '-62.8671'], accuracies=['16.67%', '16.67%', '16.67%', '16.67%', '16.67%', '16.67%', '16.67%', '16.67%']\n"
          ],
          "name": "stdout"
        }
      ]
    },
    {
      "cell_type": "markdown",
      "metadata": {
        "id": "04Jl0hWL98qG"
      },
      "source": [
        "https://github.com/ivishalanand/Federated-Learning-on-Hospital-Data/blob/master/second_revision.ipynb"
      ]
    }
  ]
}